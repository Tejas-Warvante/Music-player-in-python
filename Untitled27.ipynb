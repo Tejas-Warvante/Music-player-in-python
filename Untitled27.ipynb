{
 "cells": [
  {
   "cell_type": "code",
   "execution_count": 28,
   "id": "a98d1f5c",
   "metadata": {},
   "outputs": [],
   "source": [
    "from tkinter import *"
   ]
  },
  {
   "cell_type": "code",
   "execution_count": 29,
   "id": "62e50538",
   "metadata": {},
   "outputs": [],
   "source": [
    "import pygame"
   ]
  },
  {
   "cell_type": "code",
   "execution_count": 30,
   "id": "2d36a49d",
   "metadata": {},
   "outputs": [],
   "source": [
    "import os"
   ]
  },
  {
   "cell_type": "code",
   "execution_count": 31,
   "id": "88697529",
   "metadata": {},
   "outputs": [
    {
     "ename": "IndentationError",
     "evalue": "unexpected indent (1204619681.py, line 52)",
     "output_type": "error",
     "traceback": [
      "\u001b[1;36m  Input \u001b[1;32mIn [31]\u001b[1;36m\u001b[0m\n\u001b[1;33m    self.playlist.insert(END,track)\u001b[0m\n\u001b[1;37m    ^\u001b[0m\n\u001b[1;31mIndentationError\u001b[0m\u001b[1;31m:\u001b[0m unexpected indent\n"
     ]
    }
   ],
   "source": [
    "def __init__(self,root):\n",
    "    self.root = root\n",
    "   \n",
    "    self.root.title(\"MusicPlayer\")\n",
    "   \n",
    "    self.root.geometry(\"1000x200+200+200\")\n",
    "   \n",
    "    pygame.init()\n",
    "    \n",
    "    pygame.mixer.init()\n",
    "    \n",
    "    self.track = StringVar()\n",
    "    \n",
    "    self.status = StringVar()\n",
    "\n",
    "   \n",
    "    trackframe = LabelFrame(self.root,text=\"Song Track\",font=(\"times new roman\",15,\"bold\"),bg=\"Navyblue\",fg=\"white\",bd=5,relief=GROOVE)\n",
    "    trackframe.place(x=0,y=0,width=600,height=100)\n",
    "   \n",
    "    songtrack = Label(trackframe,textvariable=self.track,width=20,font=(\"times new roman\",24,\"bold\"),bg=\"Orange\",fg=\"gold\").grid(row=0,column=0,padx=10,pady=5)\n",
    "   \n",
    "    trackstatus = Label(trackframe,textvariable=self.status,font=(\"times new roman\",24,\"bold\"),bg=\"orange\",fg=\"gold\").grid(row=0,column=1,padx=10,pady=5)\n",
    "\n",
    "   \n",
    "    buttonframe = LabelFrame(self.root,text=\"Control Panel\",font=(\"times new roman\",15,\"bold\"),bg=\"grey\",fg=\"white\",bd=5,relief=GROOVE)\n",
    "    buttonframe.place(x=0,y=100,width=600,height=100)\n",
    "   \n",
    "    playbtn = Button(buttonframe,text=\"PLAYSONG\",command=self.playsong,width=10,height=1,font=(\"times new roman\",16,\"bold\"),fg=\"navyblue\",bg=\"pink\").grid(row=0,column=0,padx=10,pady=5)\n",
    "   \n",
    "    playbtn = Button(buttonframe,text=\"PAUSE\",command=self.pausesong,width=8,height=1,font=(\"times new roman\",16,\"bold\"),fg=\"navyblue\",bg=\"pink\").grid(row=0,column=1,padx=10,pady=5)\n",
    "    \n",
    "    playbtn = Button(buttonframe,text=\"UNPAUSE\",command=self.unpausesong,width=10,height=1,font=(\"times new roman\",16,\"bold\"),fg=\"navyblue\",bg=\"pink\").grid(row=0,column=2,padx=10,pady=5)\n",
    "   \n",
    "    playbtn = Button(buttonframe,text=\"STOPSONG\",command=self.stopsong,width=10,height=1,font=(\"times new roman\",16,\"bold\"),fg=\"navyblue\",bg=\"pink\").grid(row=0,column=3,padx=10,pady=5)\n",
    "\n",
    "   \n",
    "    songsframe = LabelFrame(self.root,text=\"Song Playlist\",font=(\"times new roman\",15,\"bold\"),bg=\"grey\",fg=\"white\",bd=5,relief=GROOVE)\n",
    "    songsframe.place(x=600,y=0,width=400,height=200)\n",
    "   \n",
    "    scrol_y = Scrollbar(songsframe,orient=VERTICAL)\n",
    "   \n",
    "    self.playlist = Listbox(songsframe,yscrollcommand=scrol_y.set,selectbackground=\"gold\",selectmode=SINGLE,font=(\"times new roman\",12,\"bold\"),bg=\"silver\",fg=\"navyblue\",bd=5,relief=GROOVE)\n",
    "    \n",
    "    scrol_y.pack(side=RIGHT,fill=Y)\n",
    "    scrol_y.config(command=self.playlist.yview)\n",
    "    self.playlist.pack(fill=BOTH)\n",
    "    \n",
    "    os.chdir(\"C:\\\\Users\\\\TEJAS V WARVANTE\\\\Desktop\")\n",
    "    \n",
    "    songtracks = os.listdir()\n",
    "   \n",
    "      self.playlist.insert(END,track)\n"
   ]
  },
  {
   "cell_type": "code",
   "execution_count": 32,
   "id": "bfb8a538",
   "metadata": {},
   "outputs": [],
   "source": [
    " def playsong(self):\n",
    "    \n",
    "    self.track.set(self.playlist.get(ACTIVE))\n",
    "   \n",
    "    self.status.set(\"-Playing\")\n",
    "    \n",
    "    pygame.mixer.music.load(self.playlist.get(ACTIVE))\n",
    "    \n",
    "    pygame.mixer.music.play()"
   ]
  },
  {
   "cell_type": "code",
   "execution_count": 33,
   "id": "4a75858e",
   "metadata": {},
   "outputs": [],
   "source": [
    " def stopsong(self):\n",
    "   \n",
    "    self.status.set(\"-Stopped\")\n",
    "    \n",
    "    pygame.mixer.music.stop()"
   ]
  },
  {
   "cell_type": "code",
   "execution_count": 34,
   "id": "a33de1af",
   "metadata": {},
   "outputs": [],
   "source": [
    "def pausesong(self):\n",
    "   \n",
    "    self.status.set(\"-Paused\")\n",
    "    \n",
    "    pygame.mixer.music.pause()"
   ]
  },
  {
   "cell_type": "code",
   "execution_count": 24,
   "id": "c98f9a8f",
   "metadata": {},
   "outputs": [],
   "source": [
    "  def unpausesong(self):\n",
    "   \n",
    "    self.status.set(\"-Playing\")\n",
    "   \n",
    "    pygame.mixer.music.unpause()\n"
   ]
  },
  {
   "cell_type": "raw",
   "id": "86154f49",
   "metadata": {},
   "source": [
    "root.mainloop()\n"
   ]
  }
 ],
 "metadata": {
  "kernelspec": {
   "display_name": "Python 3 (ipykernel)",
   "language": "python",
   "name": "python3"
  },
  "language_info": {
   "codemirror_mode": {
    "name": "ipython",
    "version": 3
   },
   "file_extension": ".py",
   "mimetype": "text/x-python",
   "name": "python",
   "nbconvert_exporter": "python",
   "pygments_lexer": "ipython3",
   "version": "3.9.12"
  }
 },
 "nbformat": 4,
 "nbformat_minor": 5
}
